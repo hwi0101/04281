{
 "cells": [
  {
   "cell_type": "code",
   "execution_count": 3,
   "id": "df9018f0",
   "metadata": {},
   "outputs": [
    {
     "name": "stdout",
     "output_type": "stream",
     "text": [
      "Files and directories in ' C:/Users/hwi0101/Documents/物導/NCCU_Point/image ' :\n",
      "['中正圖書館.JPG', '井塘樓.JPG', '商學院.JPG', '四維堂.JPG', '大仁樓.JPG', '大勇樓.JPG', '大智樓.JPG', '學思樓.JPG', '志希樓.JPG', '憩賢樓.JPG', '新聞館.JPG', '果夫樓.JPG', '樂活小舖.JPG', '樂活館.JPG', '游泳館.JPG', '玫苑.JPG', '研究大樓.JPG', '社資中心.JPG', '綜合院館.JPG', '莊敬一舍.JPG', '莊敬九舍.JPG', '行政大樓.JPG', '行政大樓站.JPG', '資訊大樓.JPG', '逸仙樓.JPG', '集英樓.JPG', '風雲樓.JPG', '體育館.JPG']\n"
     ]
    }
   ],
   "source": [
    "import os\n",
    "path =\"C:/Users/hwi0101/Documents/物導/NCCU_Point/image\"\n",
    "dir_list= os.listdir(path)\n",
    "\n",
    "print(\"Files and directories in '\", path , \"' :\")\n",
    "print(dir_list)"
   ]
  },
  {
   "cell_type": "code",
   "execution_count": 7,
   "id": "1bea62ee",
   "metadata": {},
   "outputs": [
    {
     "name": "stdout",
     "output_type": "stream",
     "text": [
      "JPEG (400, 304) RGB\n",
      "JPEG (400, 302) RGB\n",
      "JPEG (400, 297) RGB\n",
      "JPEG (400, 301) RGB\n",
      "JPEG (400, 300) RGB\n",
      "JPEG (400, 300) RGB\n",
      "JPEG (240, 320) RGB\n",
      "JPEG (240, 320) RGB\n",
      "JPEG (240, 320) RGB\n",
      "JPEG (240, 320) RGB\n",
      "JPEG (232, 320) RGB\n",
      "JPEG (238, 320) RGB\n",
      "JPEG (400, 300) RGB\n",
      "JPEG (400, 300) RGB\n",
      "JPEG (400, 300) RGB\n",
      "JPEG (235, 320) RGB\n",
      "JPEG (238, 320) RGB\n",
      "JPEG (400, 301) RGB\n",
      "JPEG (243, 320) RGB\n",
      "JPEG (240, 320) RGB\n",
      "JPEG (232, 320) RGB\n",
      "JPEG (400, 300) RGB\n",
      "JPEG (240, 320) RGB\n",
      "JPEG (400, 307) RGB\n",
      "JPEG (232, 320) RGB\n",
      "JPEG (240, 320) RGB\n",
      "JPEG (400, 300) RGB\n",
      "JPEG (400, 289) RGB\n"
     ]
    }
   ],
   "source": [
    "import glob\n",
    "from PIL import Image\n",
    "\n",
    "\n",
    "path=\"C:/Users/hwi0101/Documents/物導/NCCU_Point/image\"\n",
    "file_list=glob.glob(path+\"/*.jpg\")\n",
    "\n",
    "for jpg in file_list:\n",
    "    im=Image.open(jpg)\n",
    "    print(im.format,im.size,im.mode)\n",
    "    h , l =im.size\n",
    "    h = h//2\n",
    "    l = l//2\n",
    "    out = im.resize((h,l))\n",
    "    \n",
    "    out.save(jpg[:-3]+\"tif\")\n"
   ]
  },
  {
   "cell_type": "code",
   "execution_count": 9,
   "id": "77eddfe7",
   "metadata": {},
   "outputs": [
    {
     "name": "stdout",
     "output_type": "stream",
     "text": [
      "JPEG (400, 304) RGB\n",
      "JPEG (400, 302) RGB\n",
      "JPEG (400, 297) RGB\n",
      "JPEG (400, 301) RGB\n",
      "JPEG (400, 300) RGB\n",
      "JPEG (400, 300) RGB\n",
      "JPEG (240, 320) RGB\n",
      "JPEG (240, 320) RGB\n",
      "JPEG (240, 320) RGB\n",
      "JPEG (240, 320) RGB\n",
      "JPEG (232, 320) RGB\n",
      "JPEG (238, 320) RGB\n",
      "JPEG (400, 300) RGB\n",
      "JPEG (400, 300) RGB\n",
      "JPEG (400, 300) RGB\n",
      "JPEG (235, 320) RGB\n",
      "JPEG (238, 320) RGB\n",
      "JPEG (400, 301) RGB\n",
      "JPEG (243, 320) RGB\n",
      "JPEG (240, 320) RGB\n",
      "JPEG (232, 320) RGB\n",
      "JPEG (400, 300) RGB\n",
      "JPEG (240, 320) RGB\n",
      "JPEG (400, 307) RGB\n",
      "JPEG (232, 320) RGB\n",
      "JPEG (240, 320) RGB\n",
      "JPEG (400, 300) RGB\n",
      "JPEG (400, 289) RGB\n"
     ]
    }
   ],
   "source": [
    "import glob\n",
    "from PIL import Image\n",
    "\n",
    "\n",
    "path=\"C:/Users/hwi0101/Documents/物導/NCCU_Point/image\"\n",
    "file_list=glob.glob(path+\"/*.jpg\")\n",
    "\n",
    "for jpg in file_list:\n",
    "    im=Image.open(jpg)\n",
    "    print(im.format,im.size,im.mode)\n",
    "    h , l =im.size\n",
    "    h = h//2\n",
    "    l = l//2\n",
    "    out = im.resize((h,l))\n",
    "    \n",
    "    out.save(\"C:/Users/hwi0101/Documents/物導/NCCU_Point/new/\"+os.path.basename(jpg)[:-4]+f\"{h}_{l}_.tif\")"
   ]
  },
  {
   "cell_type": "code",
   "execution_count": null,
   "id": "04818aa5",
   "metadata": {},
   "outputs": [],
   "source": []
  }
 ],
 "metadata": {
  "kernelspec": {
   "display_name": "Python 3 (ipykernel)",
   "language": "python",
   "name": "python3"
  },
  "language_info": {
   "codemirror_mode": {
    "name": "ipython",
    "version": 3
   },
   "file_extension": ".py",
   "mimetype": "text/x-python",
   "name": "python",
   "nbconvert_exporter": "python",
   "pygments_lexer": "ipython3",
   "version": "3.9.7"
  }
 },
 "nbformat": 4,
 "nbformat_minor": 5
}
