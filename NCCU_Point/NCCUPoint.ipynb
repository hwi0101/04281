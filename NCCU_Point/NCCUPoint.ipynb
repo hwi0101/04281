{
 "cells": [
  {
   "cell_type": "code",
   "execution_count": 5,
   "id": "a720a5d7",
   "metadata": {},
   "outputs": [],
   "source": [
    "filename=\"aaaaaa.txt\"\n",
    "\n",
    "fin=open(filename)\n",
    "\n",
    "f=open(\"output.kml\",\"w\",encoding=\"utf-8\")\n",
    "\n",
    "head=\"\"\"<?xml version=\"1.0\" encoding=\"UTF-8\"?>\n",
    "<kml xmlns=\"http://www.opengis.net/kml/2.2\"  xmlns:gx=\"http://www.google.com/kml/ext/2.2\" xmlns:kml=\"http://www.opengis.net/kml/2.2\" xmlns:atom=\"http://www.w3.org/2005/Atom \">\n",
    "<Folder>\n",
    "\"\"\"\n",
    "f.write(head)\n",
    "\n",
    "\n",
    "mark=\"\"\"\n",
    "     <Placemark>  \n",
    "         <name>{}</name>  \n",
    "            <description> This is {} \n",
    "        <p><img alt=\"\" src=\"image/{}\" width=\"235\" height=\"320\" /></p> \n",
    "        <p><a href=\"{}\">http://www.nccu.edu.tw/academics/</a></p>  \n",
    "  \n",
    "    </description> \n",
    "    <Point>  \n",
    "    <coordinates>{},{},0</coordinates>  \n",
    "    </Point>  \n",
    "    </Placemark>  \"\"\"\n",
    "\n",
    "for line in fin:\n",
    "    s=line.strip()\n",
    "    t=s.split()\n",
    "    xml=mark.format(t[0+1],t[0],t[4],t[3],t[2],t[1])\n",
    "    f.write(xml)\n",
    "    f.write(\"\\n\")\n",
    "\n",
    "end=\"\"\"   </Folder>\n",
    "  </Document>\n",
    "\n",
    " \"\"\"\n",
    "f.write(end)\n",
    "f.close()"
   ]
  },
  {
   "cell_type": "code",
   "execution_count": null,
   "id": "5c3ab68f",
   "metadata": {},
   "outputs": [],
   "source": []
  },
  {
   "cell_type": "code",
   "execution_count": null,
   "id": "4091c025",
   "metadata": {},
   "outputs": [],
   "source": []
  }
 ],
 "metadata": {
  "kernelspec": {
   "display_name": "Python 3 (ipykernel)",
   "language": "python",
   "name": "python3"
  },
  "language_info": {
   "codemirror_mode": {
    "name": "ipython",
    "version": 3
   },
   "file_extension": ".py",
   "mimetype": "text/x-python",
   "name": "python",
   "nbconvert_exporter": "python",
   "pygments_lexer": "ipython3",
   "version": "3.9.7"
  }
 },
 "nbformat": 4,
 "nbformat_minor": 5
}
